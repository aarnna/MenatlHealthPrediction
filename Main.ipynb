{
 "cells": [
  {
   "cell_type": "code",
   "execution_count": 2,
   "metadata": {},
   "outputs": [
    {
     "name": "stdout",
     "output_type": "stream",
     "text": [
      "First few rows of the dataset:\n",
      "   Age  Gender Education_Level Employment_Status  Sleep_Hours  \\\n",
      "0   56    Male      Bachelor's        Unemployed          6.0   \n",
      "1   69  Female      Bachelor's           Retired          8.8   \n",
      "2   46  Female        Master's          Employed          5.3   \n",
      "3   32  Female     High School        Unemployed          8.8   \n",
      "4   60  Female      Bachelor's           Retired          7.2   \n",
      "\n",
      "   Physical_Activity_Hrs  Social_Support_Score  Anxiety_Score  \\\n",
      "0                    0.4                     3              4   \n",
      "1                    2.8                     6             18   \n",
      "2                    1.6                     5              5   \n",
      "3                    0.5                     4              6   \n",
      "4                    0.7                     2              7   \n",
      "\n",
      "   Depression_Score  Stress_Level  Family_History_Mental_Illness  \\\n",
      "0                 2             9                              0   \n",
      "1                 7             6                              0   \n",
      "2                13             8                              0   \n",
      "3                 3             4                              1   \n",
      "4                15             3                              0   \n",
      "\n",
      "   Chronic_Illnesses  Therapy  Meditation  Financial_Stress  Work_Stress  \\\n",
      "0                  0        0  Meditation                 4            3   \n",
      "1                  0        1  Meditation                 1            4   \n",
      "2                  0        0  Meditation                 8            7   \n",
      "3                  1        0  Meditation                 7            4   \n",
      "4                  0        1  Meditation                 8            9   \n",
      "\n",
      "   Self_Esteem_Score  Life_Satisfaction_Score  Loneliness_Score  \n",
      "0                  7                        5                 1  \n",
      "1                  7                        4                 6  \n",
      "2                  8                        1                 1  \n",
      "3                  8                        4                 4  \n",
      "4                  5                        7                 7  \n",
      "Dataset shape: (1200, 19)\n",
      "Missing values:\n",
      "Age                              0\n",
      "Gender                           0\n",
      "Education_Level                  0\n",
      "Employment_Status                0\n",
      "Sleep_Hours                      0\n",
      "Physical_Activity_Hrs            0\n",
      "Social_Support_Score             0\n",
      "Anxiety_Score                    0\n",
      "Depression_Score                 0\n",
      "Stress_Level                     0\n",
      "Family_History_Mental_Illness    0\n",
      "Chronic_Illnesses                0\n",
      "Therapy                          0\n",
      "Meditation                       0\n",
      "Financial_Stress                 0\n",
      "Work_Stress                      0\n",
      "Self_Esteem_Score                0\n",
      "Life_Satisfaction_Score          0\n",
      "Loneliness_Score                 0\n",
      "dtype: int64\n"
     ]
    }
   ],
   "source": [
    "import pandas as pd\n",
    "import numpy as np\n",
    "import matplotlib.pyplot as plt\n",
    "from sklearn.model_selection import train_test_split\n",
    "from sklearn.preprocessing import StandardScaler\n",
    "\n",
    "df = pd.read_csv('Datasets/anxiety_depression_data.csv')\n",
    "print(\"First few rows of the dataset:\")\n",
    "print(df.head())\n",
    "\n",
    "print(f\"Dataset shape: {df.shape}\")\n",
    "print(f\"Missing values:\\n{df.isnull().sum()}\")"
   ]
  },
  {
   "cell_type": "code",
   "execution_count": 7,
   "metadata": {},
   "outputs": [],
   "source": [
    "# A bit of Feature Selection\n",
    "# Define target variables\n",
    "y = df[['Depression_Score', 'Anxiety_Score']]\n",
    "\n",
    "# Select numerical features (including both int64 and float64)\n",
    "numerical_columns = df.select_dtypes(include=['int64', 'float64']).columns\n",
    "feature_columns = [col for col in numerical_columns if col not in ['Depression_Score', 'Anxiety_Score']]\n",
    "x = df[feature_columns]"
   ]
  },
  {
   "cell_type": "code",
   "execution_count": null,
   "metadata": {},
   "outputs": [],
   "source": [
    "# One-Hot Encoding for categorical variables\n",
    "categorical_columns = ['Gender', 'Education_Level', 'Employment_Status', 'Meditation']\n",
    "x_encoded = pd.get_dummies(x, columns=categorical_columns, prefix=categorical_columns)\n",
    "\n",
    "# Update x with encoded features\n",
    "x = x_encoded\n",
    "\n",
    "# Display the shape after encoding\n",
    "print(f\"Shape after One-Hot Encoding: {x.shape}\")\n",
    "print(\"\\nNew feature names:\")\n",
    "print(x.columns.tolist())"
   ]
  },
  {
   "cell_type": "code",
   "execution_count": 3,
   "metadata": {},
   "outputs": [
    {
     "ename": "NameError",
     "evalue": "name 'x' is not defined",
     "output_type": "error",
     "traceback": [
      "\u001b[31m---------------------------------------------------------------------------\u001b[39m",
      "\u001b[31mNameError\u001b[39m                                 Traceback (most recent call last)",
      "\u001b[36mCell\u001b[39m\u001b[36m \u001b[39m\u001b[32mIn[3]\u001b[39m\u001b[32m, line 2\u001b[39m\n\u001b[32m      1\u001b[39m \u001b[38;5;66;03m# Split data into training and testing sets\u001b[39;00m\n\u001b[32m----> \u001b[39m\u001b[32m2\u001b[39m x_train, x_test, y_train, y_test = train_test_split(\u001b[43mx\u001b[49m, y, random_state=\u001b[32m40\u001b[39m)\n\u001b[32m      3\u001b[39m \u001b[38;5;28mprint\u001b[39m(\u001b[33mf\u001b[39m\u001b[33m\"\u001b[39m\u001b[33mTraining set: \u001b[39m\u001b[38;5;132;01m{\u001b[39;00mx_train.shape\u001b[38;5;132;01m}\u001b[39;00m\u001b[33m, Test set: \u001b[39m\u001b[38;5;132;01m{\u001b[39;00mx_test.shape\u001b[38;5;132;01m}\u001b[39;00m\u001b[33m\"\u001b[39m)\n\u001b[32m      5\u001b[39m scaler = StandardScaler().fit(x_train)\n",
      "\u001b[31mNameError\u001b[39m: name 'x' is not defined"
     ]
    }
   ],
   "source": [
    "# Split data into training and testing sets\n",
    "x_train, x_test, y_train, y_test = train_test_split(x, y, random_state=40)\n",
    "print(f\"Training set: {x_train.shape}, Test set: {x_test.shape}\")\n",
    "\n",
    "scaler = StandardScaler().fit(x_train)\n",
    "\n",
    "x_train_scaled = scaler.transform(x_train)\n",
    "\n",
    "# Validation\n",
    "print(f\"Training data after scaling - Mean: {x_train_scaled.mean(axis=0).round(10)}\")\n",
    "print(f\"Training data after scaling - Std: {x_train_scaled.std(axis=0)}\")\n",
    "\n",
    "# Transform test data using the training scaler\n",
    "x_test_scaled = scaler.transform(x_test)\n",
    "\n",
    "# Validation of test scaling\n",
    "print(f\"Test data after scaling - Mean: {x_test_scaled.mean(axis=0).round(10)}\")\n",
    "print(f\"Test data after scaling - Std: {x_test_scaled.std(axis=0)}\")"
   ]
  }
 ],
 "metadata": {
  "kernelspec": {
   "display_name": "Python 3",
   "language": "python",
   "name": "python3"
  },
  "language_info": {
   "codemirror_mode": {
    "name": "ipython",
    "version": 3
   },
   "file_extension": ".py",
   "mimetype": "text/x-python",
   "name": "python",
   "nbconvert_exporter": "python",
   "pygments_lexer": "ipython3",
   "version": "3.13.1"
  }
 },
 "nbformat": 4,
 "nbformat_minor": 2
}
